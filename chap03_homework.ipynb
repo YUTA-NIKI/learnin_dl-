{
  "nbformat": 4,
  "nbformat_minor": 0,
  "metadata": {
    "colab": {
      "name": "chap03_homework.ipynb",
      "version": "0.3.2",
      "provenance": [],
      "toc_visible": true,
      "include_colab_link": true
    },
    "kernelspec": {
      "name": "python3",
      "display_name": "Python 3"
    }
  },
  "cells": [
    {
      "cell_type": "markdown",
      "metadata": {
        "id": "view-in-github",
        "colab_type": "text"
      },
      "source": [
        "<a href=\"https://colab.research.google.com/github/YUTA-NIKI/learnin_dl-/blob/master/chap03_homework.ipynb\" target=\"_parent\"><img src=\"https://colab.research.google.com/assets/colab-badge.svg\" alt=\"Open In Colab\"/></a>"
      ]
    },
    {
      "metadata": {
        "id": "gu8yWKeuiTOt",
        "colab_type": "text"
      },
      "cell_type": "markdown",
      "source": [
        "# Lecture3 Homework\n",
        "Make  softmax model to clasify Fashion MNIST (https://github.com/zalandoresearch/fashion-mnist)."
      ]
    },
    {
      "metadata": {
        "id": "Ea4hkygSpnMD",
        "colab_type": "text"
      },
      "cell_type": "markdown",
      "source": [
        "## Mount Google Drive"
      ]
    },
    {
      "metadata": {
        "id": "sW1c_ammh5UG",
        "colab_type": "code",
        "colab": {
          "base_uri": "https://localhost:8080/",
          "height": 128
        },
        "outputId": "1ff7e9bf-1160-4b96-9978-1325bc67fe35"
      },
      "cell_type": "code",
      "source": [
        "from google.colab import drive\n",
        "drive.mount('/content/drive')"
      ],
      "execution_count": 2,
      "outputs": [
        {
          "output_type": "stream",
          "text": [
            "Go to this URL in a browser: https://accounts.google.com/o/oauth2/auth?client_id=947318989803-6bn6qk8qdgf4n4g3pfee6491hc0brc4i.apps.googleusercontent.com&redirect_uri=urn%3Aietf%3Awg%3Aoauth%3A2.0%3Aoob&scope=email%20https%3A%2F%2Fwww.googleapis.com%2Fauth%2Fdocs.test%20https%3A%2F%2Fwww.googleapis.com%2Fauth%2Fdrive%20https%3A%2F%2Fwww.googleapis.com%2Fauth%2Fdrive.photos.readonly%20https%3A%2F%2Fwww.googleapis.com%2Fauth%2Fpeopleapi.readonly&response_type=code\n",
            "\n",
            "Enter your authorization code:\n",
            "··········\n",
            "Mounted at /content/drive\n"
          ],
          "name": "stdout"
        }
      ]
    },
    {
      "metadata": {
        "id": "0Sjtzmjgmhbr",
        "colab_type": "code",
        "colab": {
          "base_uri": "https://localhost:8080/",
          "height": 35
        },
        "outputId": "e09b106e-f96a-4fcc-9359-4ce609819e99"
      },
      "cell_type": "code",
      "source": [
        "!ls /content/drive/\"My Drive\"/lecture_master/2019_summer/deeplearning_matsuo/chap03_data"
      ],
      "execution_count": 13,
      "outputs": [
        {
          "output_type": "stream",
          "text": [
            "x_test.npy  x_train.npy  y_train.npy\n"
          ],
          "name": "stdout"
        }
      ]
    },
    {
      "metadata": {
        "id": "BnNGYaAtpDz9",
        "colab_type": "text"
      },
      "cell_type": "markdown",
      "source": [
        "## Read Data"
      ]
    },
    {
      "metadata": {
        "id": "tdMDdkTcnT-I",
        "colab_type": "code",
        "colab": {}
      },
      "cell_type": "code",
      "source": [
        "import os\n",
        "import sys\n",
        "\n",
        "import numpy as np\n",
        "import pandas as pd\n",
        "\n",
        "sys.modules['tensorflow'] = None\n",
        "\n",
        "def load_fashionmnist():\n",
        "    # 学習データ\n",
        "    x_train = np.load('/content/drive/My Drive/lecture_master/2019_summer/deeplearning_matsuo/chap03_data/x_train.npy')\n",
        "    y_train = np.load('/content/drive/My Drive/lecture_master/2019_summer/deeplearning_matsuo/chap03_data/y_train.npy')\n",
        "    \n",
        "    # テストデータ\n",
        "    x_test = np.load('/content/drive/My Drive/lecture_master/2019_summer/deeplearning_matsuo/chap03_data/x_test.npy')\n",
        "    \n",
        "    x_train = x_train.reshape(-1, 784).astype('float32') / 255\n",
        "    y_train = np.eye(10)[y_train.astype('int32')]\n",
        "    x_test = x_test.reshape(-1, 784).astype('float32') / 255\n",
        "    \n",
        "    return x_train, y_train, x_test"
      ],
      "execution_count": 0,
      "outputs": []
    },
    {
      "metadata": {
        "id": "lhEq7gvTqVKJ",
        "colab_type": "text"
      },
      "cell_type": "markdown",
      "source": [
        "## Implement Softmax Regression"
      ]
    },
    {
      "metadata": {
        "id": "VcoufpAbpfg0",
        "colab_type": "code",
        "colab": {
          "base_uri": "https://localhost:8080/",
          "height": 72
        },
        "outputId": "f5335af9-b796-4903-afba-0db3adefca01"
      },
      "cell_type": "code",
      "source": [
        "# %%writefile /root/userspace/chap03/submission_code.py\n",
        "\n",
        "x_train, y_train, x_test = load_fashionmnist()\n",
        "\n",
        "from sklearn.utils import shuffle\n",
        "from sklearn.metrics import accuracy_score\n",
        "from sklearn.model_selection import train_test_split\n",
        "\n",
        "def softmax(x):\n",
        "    x -= x.max(axis=1, keepdims=True) # expのunderflow & overflowを防ぐ\n",
        "    x_exp = np.exp(x)\n",
        "    return x_exp / np.sum(x_exp, axis=1, keepdims=True)\n",
        "\n",
        "def np_log(x):\n",
        "    return np.log(np.clip(a=x, a_min=1e-10, a_max=x))\n",
        "\n",
        "# weights\n",
        "W = np.random.uniform(low=-0.08, high=0.08, size=(784, 10)).astype('float32')\n",
        "b = np.zeros(shape=(10,)).astype('float32')\n",
        "\n",
        "# 学習データと検証データに分割\n",
        "x_train, x_valid, y_train, y_valid = train_test_split(x_train, y_train, test_size=0.1)\n",
        "\n",
        "def train(x, t, eps=1.0):\n",
        "    \n",
        "    global W, b\n",
        "    \n",
        "    batch_size = x.shape[0]\n",
        "    \n",
        "    y = softmax(np.matmul(x, W) + b)\n",
        "    \n",
        "    cost = (- t * np_log(y)).sum(axis=1).mean()\n",
        "    delta = y - t\n",
        "    \n",
        "    dW = np.matmul(x.T, delta) / batch_size\n",
        "    db = np.matmul(np.ones(shape=(batch_size,)), delta) / batch_size\n",
        "    \n",
        "    W -= eps * dW\n",
        "    b -= eps * db\n",
        "    \n",
        "    return cost\n",
        "\n",
        "def valid(x, t):\n",
        "    y = softmax(np.matmul(x, W) + b)\n",
        "    cost = (-t * np_log(y)).sum(axis=1).mean()\n",
        "    \n",
        "    return cost, y\n",
        "\n",
        "for epoch in range(3):\n",
        "    # オンライン学習\n",
        "    x_train, y_train = shuffle(x_train, y_train)\n",
        "    for x, y in zip(x_train, y_train):\n",
        "        cost = train(x[None, :], y[None, :])\n",
        "    cost, y_pred = valid(x_valid, y_valid)\n",
        "    print('EPOCH: {}, Valid Cost: {:.3f}, Valid Accuracy: {:.3f}'.format(\n",
        "        epoch + 1,\n",
        "        cost,\n",
        "        accuracy_score(y_valid.argmax(axis=1), y_pred.argmax(axis=1))\n",
        "    ))\n",
        "\n",
        "y_pred = softmax(np.matmul(x_test, W) + b)\n",
        "\n",
        "submission = pd.Series(y_pred.argmax(axis=1), name='label')\n",
        "submission.to_csv('/content/drive/My Drive/lecture_master/2019_summer/deeplearning_matsuo/homework/chap03/submission_pred.csv', header=True, index_label='id')"
      ],
      "execution_count": 20,
      "outputs": [
        {
          "output_type": "stream",
          "text": [
            "EPOCH: 1, Valid Cost: 4.782, Valid Accuracy: 0.780\n",
            "EPOCH: 2, Valid Cost: 7.355, Valid Accuracy: 0.670\n",
            "EPOCH: 3, Valid Cost: 4.661, Valid Accuracy: 0.784\n"
          ],
          "name": "stdout"
        }
      ]
    },
    {
      "metadata": {
        "id": "eAI7wyklvnOE",
        "colab_type": "text"
      },
      "cell_type": "markdown",
      "source": [
        "## Grid Search"
      ]
    },
    {
      "metadata": {
        "id": "3Qc6PSuEq9Pl",
        "colab_type": "code",
        "colab": {
          "base_uri": "https://localhost:8080/",
          "height": 1326
        },
        "outputId": "2937bd5a-3a89-409e-f211-097d67f50c13"
      },
      "cell_type": "code",
      "source": [
        "x_train, y_train, x_test = load_fashionmnist()\n",
        "\n",
        "# 学習データと検証データに分割\n",
        "x_train, x_valid, y_train, y_valid = train_test_split(x_train, y_train, test_size=0.1)\n",
        "\n",
        "eps_params   = [0.01, 0.1, 1]\n",
        "epoch_params = [1,3,5,10]\n",
        "\n",
        "best_score = 0\n",
        "best_param = {}\n",
        "\n",
        "for eps in eps_params:\n",
        "    for epoch in epoch_params:\n",
        "        \n",
        "        # weights\n",
        "        W = np.random.uniform(low=-0.08, high=0.08, size=(784, 10)).astype('float32')\n",
        "        b = np.zeros(shape=(10,)).astype('float32')\n",
        "        \n",
        "        for epo_num in range(epoch):\n",
        "            # オンライン学習\n",
        "            x_train, y_train = shuffle(x_train, y_train)\n",
        "            for x, y in zip(x_train, y_train):\n",
        "                cost = train(x[None, :], y[None, :], eps = eps)\n",
        "            cost, y_pred = valid(x_valid, y_valid)\n",
        "            print('EPOCH: {}, Valid Cost: {:.3f}, Valid Accuracy: {:.3f}'.format(\n",
        "                epo_num + 1,\n",
        "                cost,\n",
        "                accuracy_score(y_valid.argmax(axis=1), y_pred.argmax(axis=1))\n",
        "            ))\n",
        "            \n",
        "        y_pred = softmax(np.matmul(x_valid, W) + b)\n",
        "        score = accuracy_score(y_valid.argmax(axis=1), y_pred.argmax(axis=1))\n",
        "        \n",
        "        if score > best_score:\n",
        "            best_score = score\n",
        "            best_param = {'eps': eps, 'epoch': epoch}\n",
        "        print('-----------------------------------------------------------------')\n",
        "        \n",
        "print('best_score: ', best_score)\n",
        "print('best_param; ', best_param)\n",
        "\n",
        "# weights\n",
        "W = np.random.uniform(low=-0.08, high=0.08, size=(784, 10)).astype('float32')\n",
        "b = np.zeros(shape=(10,)).astype('float32')\n",
        "\n",
        "for epoch in range(best_param['epoch']):\n",
        "    # オンライン学習\n",
        "    x_train, y_train = shuffle(x_train, y_train)\n",
        "    for x, y in zip(x_train, y_train):\n",
        "        cost = train(x[None, :], y[None, :], eps=best_param['eps'])\n",
        "    cost, y_pred = valid(x_valid, y_valid)\n",
        "    print('EPOCH: {}, Valid Cost: {:.3f}, Valid Accuracy: {:.3f}'.format(\n",
        "        epoch + 1,\n",
        "        cost,\n",
        "        accuracy_score(y_valid.argmax(axis=1), y_pred.argmax(axis=1))\n",
        "    ))\n",
        "    \n",
        "y_pred = softmax(np.matmul(x_test, W) + b)\n",
        "\n",
        "submission = pd.Series(y_pred.argmax(axis=1), name='label')\n",
        "submission.to_csv('/content/drive/My Drive/lecture_master/2019_summer/deeplearning_matsuo/homework/chap03/submission_pred.csv', header=True, index_label='id')"
      ],
      "execution_count": 31,
      "outputs": [
        {
          "output_type": "stream",
          "text": [
            "EPOCH: 1, Valid Cost: 0.488, Valid Accuracy: 0.844\n",
            "-----------------------------------------------------------------\n",
            "EPOCH: 1, Valid Cost: 0.566, Valid Accuracy: 0.815\n",
            "EPOCH: 2, Valid Cost: 0.514, Valid Accuracy: 0.832\n",
            "EPOCH: 3, Valid Cost: 0.614, Valid Accuracy: 0.807\n",
            "-----------------------------------------------------------------\n",
            "EPOCH: 1, Valid Cost: 0.521, Valid Accuracy: 0.823\n",
            "EPOCH: 2, Valid Cost: 0.482, Valid Accuracy: 0.845\n",
            "EPOCH: 3, Valid Cost: 0.563, Valid Accuracy: 0.824\n",
            "EPOCH: 4, Valid Cost: 0.594, Valid Accuracy: 0.814\n",
            "EPOCH: 5, Valid Cost: 0.539, Valid Accuracy: 0.835\n",
            "-----------------------------------------------------------------\n",
            "EPOCH: 1, Valid Cost: 0.486, Valid Accuracy: 0.836\n",
            "EPOCH: 2, Valid Cost: 0.466, Valid Accuracy: 0.847\n",
            "EPOCH: 3, Valid Cost: 0.529, Valid Accuracy: 0.836\n",
            "EPOCH: 4, Valid Cost: 0.462, Valid Accuracy: 0.847\n",
            "EPOCH: 5, Valid Cost: 0.479, Valid Accuracy: 0.843\n",
            "EPOCH: 6, Valid Cost: 0.517, Valid Accuracy: 0.829\n",
            "EPOCH: 7, Valid Cost: 0.552, Valid Accuracy: 0.838\n",
            "EPOCH: 8, Valid Cost: 0.543, Valid Accuracy: 0.830\n",
            "EPOCH: 9, Valid Cost: 0.472, Valid Accuracy: 0.848\n",
            "EPOCH: 10, Valid Cost: 0.499, Valid Accuracy: 0.833\n",
            "-----------------------------------------------------------------\n",
            "EPOCH: 1, Valid Cost: 3.497, Valid Accuracy: 0.718\n",
            "-----------------------------------------------------------------\n",
            "EPOCH: 1, Valid Cost: 3.359, Valid Accuracy: 0.725\n",
            "EPOCH: 2, Valid Cost: 2.310, Valid Accuracy: 0.807\n",
            "EPOCH: 3, Valid Cost: 2.079, Valid Accuracy: 0.826\n",
            "-----------------------------------------------------------------\n",
            "EPOCH: 1, Valid Cost: 2.465, Valid Accuracy: 0.815\n",
            "EPOCH: 2, Valid Cost: 3.423, Valid Accuracy: 0.751\n",
            "EPOCH: 3, Valid Cost: 3.068, Valid Accuracy: 0.764\n",
            "EPOCH: 4, Valid Cost: 2.778, Valid Accuracy: 0.792\n",
            "EPOCH: 5, Valid Cost: 1.908, Valid Accuracy: 0.843\n",
            "-----------------------------------------------------------------\n",
            "EPOCH: 1, Valid Cost: 1.939, Valid Accuracy: 0.825\n",
            "EPOCH: 2, Valid Cost: 2.233, Valid Accuracy: 0.795\n",
            "EPOCH: 3, Valid Cost: 2.819, Valid Accuracy: 0.775\n",
            "EPOCH: 4, Valid Cost: 2.388, Valid Accuracy: 0.802\n",
            "EPOCH: 5, Valid Cost: 2.822, Valid Accuracy: 0.801\n",
            "EPOCH: 6, Valid Cost: 2.270, Valid Accuracy: 0.810\n",
            "EPOCH: 7, Valid Cost: 2.116, Valid Accuracy: 0.815\n",
            "EPOCH: 8, Valid Cost: 2.535, Valid Accuracy: 0.802\n",
            "EPOCH: 9, Valid Cost: 2.130, Valid Accuracy: 0.833\n",
            "EPOCH: 10, Valid Cost: 2.507, Valid Accuracy: 0.810\n",
            "-----------------------------------------------------------------\n",
            "EPOCH: 1, Valid Cost: 5.711, Valid Accuracy: 0.733\n",
            "-----------------------------------------------------------------\n",
            "EPOCH: 1, Valid Cost: 4.904, Valid Accuracy: 0.775\n",
            "EPOCH: 2, Valid Cost: 3.595, Valid Accuracy: 0.833\n",
            "EPOCH: 3, Valid Cost: 5.256, Valid Accuracy: 0.760\n",
            "-----------------------------------------------------------------\n",
            "EPOCH: 1, Valid Cost: 4.252, Valid Accuracy: 0.802\n",
            "EPOCH: 2, Valid Cost: 3.710, Valid Accuracy: 0.826\n",
            "EPOCH: 3, Valid Cost: 4.840, Valid Accuracy: 0.777\n",
            "EPOCH: 4, Valid Cost: 3.470, Valid Accuracy: 0.838\n",
            "EPOCH: 5, Valid Cost: 4.838, Valid Accuracy: 0.777\n",
            "-----------------------------------------------------------------\n",
            "EPOCH: 1, Valid Cost: 4.852, Valid Accuracy: 0.777\n",
            "EPOCH: 2, Valid Cost: 3.679, Valid Accuracy: 0.828\n",
            "EPOCH: 3, Valid Cost: 4.397, Valid Accuracy: 0.795\n",
            "EPOCH: 4, Valid Cost: 3.852, Valid Accuracy: 0.819\n",
            "EPOCH: 5, Valid Cost: 3.369, Valid Accuracy: 0.842\n",
            "EPOCH: 6, Valid Cost: 4.620, Valid Accuracy: 0.786\n",
            "EPOCH: 7, Valid Cost: 4.222, Valid Accuracy: 0.807\n",
            "EPOCH: 8, Valid Cost: 7.582, Valid Accuracy: 0.660\n",
            "EPOCH: 9, Valid Cost: 5.748, Valid Accuracy: 0.738\n",
            "EPOCH: 10, Valid Cost: 3.790, Valid Accuracy: 0.825\n",
            "-----------------------------------------------------------------\n",
            "best_score:  0.844\n",
            "best_param;  {'eps': 0.01, 'epoch': 1}\n",
            "EPOCH: 1, Valid Cost: 0.498, Valid Accuracy: 0.842\n"
          ],
          "name": "stdout"
        }
      ]
    },
    {
      "metadata": {
        "id": "60ANo3kT3gld",
        "colab_type": "code",
        "colab": {}
      },
      "cell_type": "code",
      "source": [
        ""
      ],
      "execution_count": 0,
      "outputs": []
    }
  ]
}